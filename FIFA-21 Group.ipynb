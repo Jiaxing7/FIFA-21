{
 "cells": [
  {
   "cell_type": "code",
   "execution_count": 3,
   "id": "ffaf89d2",
   "metadata": {},
   "outputs": [],
   "source": [
    "import pandas as pd\n",
    "import numpy as np\n",
    "import math\n",
    "from sklearn import linear_model\n",
    "from sklearn.preprocessing import MinMaxScaler"
   ]
  },
  {
   "cell_type": "code",
   "execution_count": 4,
   "id": "e675dda5",
   "metadata": {},
   "outputs": [],
   "source": [
    "\n",
    "def clean_data(df):\n",
    "    df.columns=[e.lower().replace(' ', '_') for e in df.columns]\n",
    "    df=df.drop(['loan_date_end'], axis=1)\n",
    "    df['a/w'] = df['a/w'].fillna('unknown_a/w')\n",
    "    df['d/w'] = df['d/w'].fillna('unknown_d/w')\n",
    "    df = df[df['joined'].isna()==False]  \n",
    "    df['composure'] = df['composure'].fillna(df['composure'].mean())\n",
    "    to_inches = lambda x: int(x.split(\"'\")[0]) * 12 + int(x.split(\"'\")[1].strip('\"'))\n",
    "    df['height'] = df['height'].apply(to_inches)\n",
    "    df['weight'] = pd.to_numeric(df['weight'].str.replace('lbs', ''))\n",
    "    df['joined'] = pd.to_datetime(df['joined'],errors='coerce')\n",
    "    df['joined'] = df['joined'].dt.year\n",
    "    def convert_currency(value):\n",
    "        if 'K' in value:\n",
    "            return float(value.replace('€', '').replace('K', '')) * 1000\n",
    "        elif 'M' in value:\n",
    "            return float(value.replace('€', '').replace('M', '')) * 1000000\n",
    "        else:\n",
    "            return float(value.replace('€', ''))\n",
    "    df['value'] = df['value'].apply(convert_currency)\n",
    "    def convert_currency(wage):\n",
    "        if 'K' in wage:\n",
    "            return float(wage.replace('€', '').replace('K', '')) * 1000\n",
    "        else:\n",
    "            return float(wage.replace('€', ''))\n",
    "    df['wage'] = df['wage'].apply(convert_currency)\n",
    "    def convert_currency(hits):\n",
    "        if 'K' in hits:\n",
    "            return float(hits.replace('K', '')) * 1000\n",
    "        else:\n",
    "            return float()\n",
    "    df['hits'] = df['hits'].apply(convert_currency)\n",
    "    def convert_currency(release_clause):\n",
    "        if 'K' in release_clause:\n",
    "            return float(release_clause.replace('€', '').replace('K', '')) * 1000\n",
    "        elif 'M' in release_clause:\n",
    "            return float(release_clause.replace('€', '').replace('M', '')) * 1000000\n",
    "        else:\n",
    "            return float(release_clause.replace('€', ''))\n",
    "    df['release_clause'] = df['release_clause'].apply(convert_currency)\n",
    "    df['ir']=df['ir'].str.replace('★','')\n",
    "    df['w/f']=df['w/f'].str.replace('★','')\n",
    "    df['sm']=df['sm'].str.replace('★','')\n",
    "    df['ir'] = pd.to_numeric(df['ir'])\n",
    "    df['w/f'] = pd.to_numeric(df['w/f'])\n",
    "    df['sm'] = pd.to_numeric(df['sm'])\n",
    "    df_to_clean=['ls', 'st', 'rs', 'lw', 'lf', 'cf', 'rf',\n",
    "       'rw', 'lam', 'cam', 'ram', 'lm', 'lcm', 'cm', 'rcm', 'rm', 'lwb', 'ldm',\n",
    "       'cdm', 'rdm', 'rwb', 'lb', 'lcb', 'cb', 'rcb', 'rb', 'gk']\n",
    "    for col in df_to_clean:\n",
    "        df[col] = df[col].str.split('+').str[0]\n",
    "        df[col] = df[col].str.split('-').str[0]\n",
    "    for col in df_to_clean:\n",
    "        df[col] = pd.to_numeric(df[col])\n",
    "    X_cat1=df[['bp', 'foot', 'a/w', 'd/w']]\n",
    "    pd.get_dummies(X_cat1, drop_first=True).head()\n",
    "    from sklearn.preprocessing import OneHotEncoder\n",
    "    pd.DataFrame(OneHotEncoder(drop='first').fit_transform(X_cat1).toarray(),\n",
    "             columns=OneHotEncoder(drop='first').fit(X_cat1).get_feature_names(input_features=X_cat1.columns)).head()\n",
    "    X_cat1=pd.get_dummies(X_cat1, drop_first=True)\n",
    "    num=df._get_numeric_data()\n",
    "    df=pd.concat([num, X_cat1], axis=1)\n",
    "    return df\n"
   ]
  },
  {
   "cell_type": "code",
   "execution_count": 5,
   "id": "70abc748",
   "metadata": {},
   "outputs": [],
   "source": [
    "df = pd.read_csv('./fifa21_validate.csv')"
   ]
  },
  {
   "cell_type": "code",
   "execution_count": 6,
   "id": "f0079d5f",
   "metadata": {},
   "outputs": [
    {
     "name": "stderr",
     "output_type": "stream",
     "text": [
      "C:\\ProgramData\\Anaconda3\\lib\\site-packages\\sklearn\\utils\\deprecation.py:87: FutureWarning: Function get_feature_names is deprecated; get_feature_names is deprecated in 1.0 and will be removed in 1.2. Please use get_feature_names_out instead.\n",
      "  warnings.warn(msg, category=FutureWarning)\n"
     ]
    }
   ],
   "source": [
    "df = clean_data(df)"
   ]
  },
  {
   "cell_type": "code",
   "execution_count": 7,
   "id": "133f2e01",
   "metadata": {},
   "outputs": [
    {
     "data": {
      "text/html": [
       "<div>\n",
       "<style scoped>\n",
       "    .dataframe tbody tr th:only-of-type {\n",
       "        vertical-align: middle;\n",
       "    }\n",
       "\n",
       "    .dataframe tbody tr th {\n",
       "        vertical-align: top;\n",
       "    }\n",
       "\n",
       "    .dataframe thead th {\n",
       "        text-align: right;\n",
       "    }\n",
       "</style>\n",
       "<table border=\"1\" class=\"dataframe\">\n",
       "  <thead>\n",
       "    <tr style=\"text-align: right;\">\n",
       "      <th></th>\n",
       "      <th>id</th>\n",
       "      <th>age</th>\n",
       "      <th>height</th>\n",
       "      <th>weight</th>\n",
       "      <th>growth</th>\n",
       "      <th>joined</th>\n",
       "      <th>value</th>\n",
       "      <th>wage</th>\n",
       "      <th>release_clause</th>\n",
       "      <th>attacking</th>\n",
       "      <th>...</th>\n",
       "      <th>bp_RW</th>\n",
       "      <th>bp_RWB</th>\n",
       "      <th>bp_ST</th>\n",
       "      <th>foot_Right</th>\n",
       "      <th>a/w_Low</th>\n",
       "      <th>a/w_Medium</th>\n",
       "      <th>a/w_unknown_a/w</th>\n",
       "      <th>d/w_Low</th>\n",
       "      <th>d/w_Medium</th>\n",
       "      <th>d/w_unknown_d/w</th>\n",
       "    </tr>\n",
       "  </thead>\n",
       "  <tbody>\n",
       "    <tr>\n",
       "      <th>0</th>\n",
       "      <td>219461</td>\n",
       "      <td>23</td>\n",
       "      <td>74</td>\n",
       "      <td>194</td>\n",
       "      <td>7</td>\n",
       "      <td>2018</td>\n",
       "      <td>975000.0</td>\n",
       "      <td>5000.0</td>\n",
       "      <td>0.0</td>\n",
       "      <td>230</td>\n",
       "      <td>...</td>\n",
       "      <td>0</td>\n",
       "      <td>0</td>\n",
       "      <td>0</td>\n",
       "      <td>1</td>\n",
       "      <td>1</td>\n",
       "      <td>0</td>\n",
       "      <td>0</td>\n",
       "      <td>0</td>\n",
       "      <td>0</td>\n",
       "      <td>0</td>\n",
       "    </tr>\n",
       "    <tr>\n",
       "      <th>1</th>\n",
       "      <td>221896</td>\n",
       "      <td>22</td>\n",
       "      <td>68</td>\n",
       "      <td>154</td>\n",
       "      <td>5</td>\n",
       "      <td>2020</td>\n",
       "      <td>1200000.0</td>\n",
       "      <td>3000.0</td>\n",
       "      <td>2200000.0</td>\n",
       "      <td>298</td>\n",
       "      <td>...</td>\n",
       "      <td>0</td>\n",
       "      <td>0</td>\n",
       "      <td>0</td>\n",
       "      <td>1</td>\n",
       "      <td>0</td>\n",
       "      <td>0</td>\n",
       "      <td>0</td>\n",
       "      <td>1</td>\n",
       "      <td>0</td>\n",
       "      <td>0</td>\n",
       "    </tr>\n",
       "    <tr>\n",
       "      <th>2</th>\n",
       "      <td>247428</td>\n",
       "      <td>19</td>\n",
       "      <td>74</td>\n",
       "      <td>176</td>\n",
       "      <td>17</td>\n",
       "      <td>2018</td>\n",
       "      <td>120000.0</td>\n",
       "      <td>500.0</td>\n",
       "      <td>249000.0</td>\n",
       "      <td>48</td>\n",
       "      <td>...</td>\n",
       "      <td>0</td>\n",
       "      <td>0</td>\n",
       "      <td>0</td>\n",
       "      <td>1</td>\n",
       "      <td>0</td>\n",
       "      <td>1</td>\n",
       "      <td>0</td>\n",
       "      <td>0</td>\n",
       "      <td>1</td>\n",
       "      <td>0</td>\n",
       "    </tr>\n",
       "    <tr>\n",
       "      <th>3</th>\n",
       "      <td>255120</td>\n",
       "      <td>16</td>\n",
       "      <td>75</td>\n",
       "      <td>170</td>\n",
       "      <td>23</td>\n",
       "      <td>2020</td>\n",
       "      <td>160000.0</td>\n",
       "      <td>500.0</td>\n",
       "      <td>464000.0</td>\n",
       "      <td>215</td>\n",
       "      <td>...</td>\n",
       "      <td>0</td>\n",
       "      <td>0</td>\n",
       "      <td>0</td>\n",
       "      <td>1</td>\n",
       "      <td>0</td>\n",
       "      <td>1</td>\n",
       "      <td>0</td>\n",
       "      <td>0</td>\n",
       "      <td>1</td>\n",
       "      <td>0</td>\n",
       "    </tr>\n",
       "    <tr>\n",
       "      <th>4</th>\n",
       "      <td>215556</td>\n",
       "      <td>24</td>\n",
       "      <td>74</td>\n",
       "      <td>170</td>\n",
       "      <td>5</td>\n",
       "      <td>2019</td>\n",
       "      <td>2300000.0</td>\n",
       "      <td>13000.0</td>\n",
       "      <td>4300000.0</td>\n",
       "      <td>295</td>\n",
       "      <td>...</td>\n",
       "      <td>0</td>\n",
       "      <td>0</td>\n",
       "      <td>0</td>\n",
       "      <td>1</td>\n",
       "      <td>0</td>\n",
       "      <td>1</td>\n",
       "      <td>0</td>\n",
       "      <td>0</td>\n",
       "      <td>1</td>\n",
       "      <td>0</td>\n",
       "    </tr>\n",
       "    <tr>\n",
       "      <th>...</th>\n",
       "      <td>...</td>\n",
       "      <td>...</td>\n",
       "      <td>...</td>\n",
       "      <td>...</td>\n",
       "      <td>...</td>\n",
       "      <td>...</td>\n",
       "      <td>...</td>\n",
       "      <td>...</td>\n",
       "      <td>...</td>\n",
       "      <td>...</td>\n",
       "      <td>...</td>\n",
       "      <td>...</td>\n",
       "      <td>...</td>\n",
       "      <td>...</td>\n",
       "      <td>...</td>\n",
       "      <td>...</td>\n",
       "      <td>...</td>\n",
       "      <td>...</td>\n",
       "      <td>...</td>\n",
       "      <td>...</td>\n",
       "      <td>...</td>\n",
       "    </tr>\n",
       "    <tr>\n",
       "      <th>1994</th>\n",
       "      <td>239074</td>\n",
       "      <td>21</td>\n",
       "      <td>68</td>\n",
       "      <td>143</td>\n",
       "      <td>11</td>\n",
       "      <td>2020</td>\n",
       "      <td>325000.0</td>\n",
       "      <td>1000.0</td>\n",
       "      <td>731000.0</td>\n",
       "      <td>197</td>\n",
       "      <td>...</td>\n",
       "      <td>0</td>\n",
       "      <td>0</td>\n",
       "      <td>0</td>\n",
       "      <td>0</td>\n",
       "      <td>0</td>\n",
       "      <td>0</td>\n",
       "      <td>0</td>\n",
       "      <td>0</td>\n",
       "      <td>1</td>\n",
       "      <td>0</td>\n",
       "    </tr>\n",
       "    <tr>\n",
       "      <th>1995</th>\n",
       "      <td>241223</td>\n",
       "      <td>21</td>\n",
       "      <td>77</td>\n",
       "      <td>176</td>\n",
       "      <td>9</td>\n",
       "      <td>2017</td>\n",
       "      <td>190000.0</td>\n",
       "      <td>700.0</td>\n",
       "      <td>285000.0</td>\n",
       "      <td>77</td>\n",
       "      <td>...</td>\n",
       "      <td>0</td>\n",
       "      <td>0</td>\n",
       "      <td>0</td>\n",
       "      <td>1</td>\n",
       "      <td>0</td>\n",
       "      <td>1</td>\n",
       "      <td>0</td>\n",
       "      <td>0</td>\n",
       "      <td>1</td>\n",
       "      <td>0</td>\n",
       "    </tr>\n",
       "    <tr>\n",
       "      <th>1996</th>\n",
       "      <td>210930</td>\n",
       "      <td>27</td>\n",
       "      <td>67</td>\n",
       "      <td>146</td>\n",
       "      <td>0</td>\n",
       "      <td>2019</td>\n",
       "      <td>8000000.0</td>\n",
       "      <td>9000.0</td>\n",
       "      <td>12000000.0</td>\n",
       "      <td>332</td>\n",
       "      <td>...</td>\n",
       "      <td>0</td>\n",
       "      <td>0</td>\n",
       "      <td>0</td>\n",
       "      <td>0</td>\n",
       "      <td>0</td>\n",
       "      <td>0</td>\n",
       "      <td>0</td>\n",
       "      <td>0</td>\n",
       "      <td>1</td>\n",
       "      <td>0</td>\n",
       "    </tr>\n",
       "    <tr>\n",
       "      <th>1997</th>\n",
       "      <td>162993</td>\n",
       "      <td>34</td>\n",
       "      <td>71</td>\n",
       "      <td>176</td>\n",
       "      <td>0</td>\n",
       "      <td>2020</td>\n",
       "      <td>140000.0</td>\n",
       "      <td>4000.0</td>\n",
       "      <td>245000.0</td>\n",
       "      <td>268</td>\n",
       "      <td>...</td>\n",
       "      <td>0</td>\n",
       "      <td>0</td>\n",
       "      <td>0</td>\n",
       "      <td>1</td>\n",
       "      <td>0</td>\n",
       "      <td>1</td>\n",
       "      <td>0</td>\n",
       "      <td>0</td>\n",
       "      <td>1</td>\n",
       "      <td>0</td>\n",
       "    </tr>\n",
       "    <tr>\n",
       "      <th>1998</th>\n",
       "      <td>254882</td>\n",
       "      <td>18</td>\n",
       "      <td>70</td>\n",
       "      <td>150</td>\n",
       "      <td>16</td>\n",
       "      <td>2020</td>\n",
       "      <td>425000.0</td>\n",
       "      <td>1000.0</td>\n",
       "      <td>946000.0</td>\n",
       "      <td>276</td>\n",
       "      <td>...</td>\n",
       "      <td>0</td>\n",
       "      <td>0</td>\n",
       "      <td>0</td>\n",
       "      <td>1</td>\n",
       "      <td>0</td>\n",
       "      <td>1</td>\n",
       "      <td>0</td>\n",
       "      <td>0</td>\n",
       "      <td>1</td>\n",
       "      <td>0</td>\n",
       "    </tr>\n",
       "  </tbody>\n",
       "</table>\n",
       "<p>1996 rows × 111 columns</p>\n",
       "</div>"
      ],
      "text/plain": [
       "          id  age  height  weight  growth  joined      value     wage  \\\n",
       "0     219461   23      74     194       7    2018   975000.0   5000.0   \n",
       "1     221896   22      68     154       5    2020  1200000.0   3000.0   \n",
       "2     247428   19      74     176      17    2018   120000.0    500.0   \n",
       "3     255120   16      75     170      23    2020   160000.0    500.0   \n",
       "4     215556   24      74     170       5    2019  2300000.0  13000.0   \n",
       "...      ...  ...     ...     ...     ...     ...        ...      ...   \n",
       "1994  239074   21      68     143      11    2020   325000.0   1000.0   \n",
       "1995  241223   21      77     176       9    2017   190000.0    700.0   \n",
       "1996  210930   27      67     146       0    2019  8000000.0   9000.0   \n",
       "1997  162993   34      71     176       0    2020   140000.0   4000.0   \n",
       "1998  254882   18      70     150      16    2020   425000.0   1000.0   \n",
       "\n",
       "      release_clause  attacking  ...  bp_RW  bp_RWB  bp_ST  foot_Right  \\\n",
       "0                0.0        230  ...      0       0      0           1   \n",
       "1          2200000.0        298  ...      0       0      0           1   \n",
       "2           249000.0         48  ...      0       0      0           1   \n",
       "3           464000.0        215  ...      0       0      0           1   \n",
       "4          4300000.0        295  ...      0       0      0           1   \n",
       "...              ...        ...  ...    ...     ...    ...         ...   \n",
       "1994        731000.0        197  ...      0       0      0           0   \n",
       "1995        285000.0         77  ...      0       0      0           1   \n",
       "1996      12000000.0        332  ...      0       0      0           0   \n",
       "1997        245000.0        268  ...      0       0      0           1   \n",
       "1998        946000.0        276  ...      0       0      0           1   \n",
       "\n",
       "      a/w_Low  a/w_Medium  a/w_unknown_a/w  d/w_Low  d/w_Medium  \\\n",
       "0           1           0                0        0           0   \n",
       "1           0           0                0        1           0   \n",
       "2           0           1                0        0           1   \n",
       "3           0           1                0        0           1   \n",
       "4           0           1                0        0           1   \n",
       "...       ...         ...              ...      ...         ...   \n",
       "1994        0           0                0        0           1   \n",
       "1995        0           1                0        0           1   \n",
       "1996        0           0                0        0           1   \n",
       "1997        0           1                0        0           1   \n",
       "1998        0           1                0        0           1   \n",
       "\n",
       "      d/w_unknown_d/w  \n",
       "0                   0  \n",
       "1                   0  \n",
       "2                   0  \n",
       "3                   0  \n",
       "4                   0  \n",
       "...               ...  \n",
       "1994                0  \n",
       "1995                0  \n",
       "1996                0  \n",
       "1997                0  \n",
       "1998                0  \n",
       "\n",
       "[1996 rows x 111 columns]"
      ]
     },
     "execution_count": 7,
     "metadata": {},
     "output_type": "execute_result"
    }
   ],
   "source": [
    "df"
   ]
  },
  {
   "cell_type": "markdown",
   "id": "82b69d8d",
   "metadata": {},
   "source": [
    "### Normalizing"
   ]
  },
  {
   "cell_type": "code",
   "execution_count": 8,
   "id": "7529b986",
   "metadata": {},
   "outputs": [],
   "source": [
    "import pickle\n",
    "MinMaxtransformer=pickle.load(open('MinMaxtransformer.p', 'rb'))"
   ]
  },
  {
   "cell_type": "code",
   "execution_count": 9,
   "id": "28ab8ad4",
   "metadata": {},
   "outputs": [
    {
     "data": {
      "text/plain": [
       "MinMaxScaler()"
      ]
     },
     "execution_count": 9,
     "metadata": {},
     "output_type": "execute_result"
    }
   ],
   "source": [
    "MinMaxtransformer"
   ]
  },
  {
   "cell_type": "code",
   "execution_count": 10,
   "id": "ae88687d",
   "metadata": {},
   "outputs": [
    {
     "data": {
      "text/plain": [
       "LinearRegression()"
      ]
     },
     "execution_count": 10,
     "metadata": {},
     "output_type": "execute_result"
    }
   ],
   "source": [
    "lm=pickle.load(open('model.p', 'rb'))\n",
    "lm"
   ]
  },
  {
   "cell_type": "code",
   "execution_count": 11,
   "id": "8f653290",
   "metadata": {},
   "outputs": [],
   "source": [
    "y=df['ova']\n",
    "X=df.drop(['ova'], axis=1)"
   ]
  },
  {
   "cell_type": "code",
   "execution_count": 12,
   "id": "73de6548",
   "metadata": {},
   "outputs": [
    {
     "name": "stdout",
     "output_type": "stream",
     "text": [
      "(1996, 110)\n"
     ]
    },
    {
     "name": "stderr",
     "output_type": "stream",
     "text": [
      "C:\\ProgramData\\Anaconda3\\lib\\site-packages\\sklearn\\base.py:493: FutureWarning: The feature names should match those that were passed during fit. Starting version 1.2, an error will be raised.\n",
      "Feature names unseen at fit time:\n",
      "- foot_Right\n",
      "Feature names seen at fit time, yet now missing:\n",
      "- foot\n",
      "\n",
      "  warnings.warn(message, FutureWarning)\n"
     ]
    },
    {
     "data": {
      "text/html": [
       "<div>\n",
       "<style scoped>\n",
       "    .dataframe tbody tr th:only-of-type {\n",
       "        vertical-align: middle;\n",
       "    }\n",
       "\n",
       "    .dataframe tbody tr th {\n",
       "        vertical-align: top;\n",
       "    }\n",
       "\n",
       "    .dataframe thead th {\n",
       "        text-align: right;\n",
       "    }\n",
       "</style>\n",
       "<table border=\"1\" class=\"dataframe\">\n",
       "  <thead>\n",
       "    <tr style=\"text-align: right;\">\n",
       "      <th></th>\n",
       "      <th>id</th>\n",
       "      <th>age</th>\n",
       "      <th>height</th>\n",
       "      <th>weight</th>\n",
       "      <th>growth</th>\n",
       "      <th>joined</th>\n",
       "      <th>value</th>\n",
       "      <th>wage</th>\n",
       "      <th>release_clause</th>\n",
       "      <th>attacking</th>\n",
       "      <th>...</th>\n",
       "      <th>bp_RW</th>\n",
       "      <th>bp_RWB</th>\n",
       "      <th>bp_ST</th>\n",
       "      <th>foot_Right</th>\n",
       "      <th>a/w_Low</th>\n",
       "      <th>a/w_Medium</th>\n",
       "      <th>a/w_unknown_a/w</th>\n",
       "      <th>d/w_Low</th>\n",
       "      <th>d/w_Medium</th>\n",
       "      <th>d/w_unknown_d/w</th>\n",
       "    </tr>\n",
       "  </thead>\n",
       "  <tbody>\n",
       "    <tr>\n",
       "      <th>0</th>\n",
       "      <td>0.847033</td>\n",
       "      <td>0.225806</td>\n",
       "      <td>0.666667</td>\n",
       "      <td>0.694444</td>\n",
       "      <td>7.0</td>\n",
       "      <td>80.72</td>\n",
       "      <td>34750.285714</td>\n",
       "      <td>0.000064</td>\n",
       "      <td>0.000</td>\n",
       "      <td>1.442911e-06</td>\n",
       "      <td>...</td>\n",
       "      <td>0.0</td>\n",
       "      <td>0.0</td>\n",
       "      <td>0.0</td>\n",
       "      <td>1.0</td>\n",
       "      <td>1.0</td>\n",
       "      <td>0.0</td>\n",
       "      <td>0.0</td>\n",
       "      <td>0.0</td>\n",
       "      <td>0.0</td>\n",
       "      <td>0.0</td>\n",
       "    </tr>\n",
       "    <tr>\n",
       "      <th>1</th>\n",
       "      <td>0.856432</td>\n",
       "      <td>0.193548</td>\n",
       "      <td>0.266667</td>\n",
       "      <td>0.324074</td>\n",
       "      <td>5.0</td>\n",
       "      <td>80.80</td>\n",
       "      <td>42786.000000</td>\n",
       "      <td>0.000038</td>\n",
       "      <td>8.800</td>\n",
       "      <td>1.869511e-06</td>\n",
       "      <td>...</td>\n",
       "      <td>0.0</td>\n",
       "      <td>0.0</td>\n",
       "      <td>0.0</td>\n",
       "      <td>1.0</td>\n",
       "      <td>0.0</td>\n",
       "      <td>0.0</td>\n",
       "      <td>0.0</td>\n",
       "      <td>1.0</td>\n",
       "      <td>0.0</td>\n",
       "      <td>0.0</td>\n",
       "    </tr>\n",
       "    <tr>\n",
       "      <th>2</th>\n",
       "      <td>0.954982</td>\n",
       "      <td>0.096774</td>\n",
       "      <td>0.666667</td>\n",
       "      <td>0.527778</td>\n",
       "      <td>17.0</td>\n",
       "      <td>80.72</td>\n",
       "      <td>4214.571429</td>\n",
       "      <td>0.000006</td>\n",
       "      <td>0.996</td>\n",
       "      <td>3.011292e-07</td>\n",
       "      <td>...</td>\n",
       "      <td>0.0</td>\n",
       "      <td>0.0</td>\n",
       "      <td>0.0</td>\n",
       "      <td>1.0</td>\n",
       "      <td>0.0</td>\n",
       "      <td>1.0</td>\n",
       "      <td>0.0</td>\n",
       "      <td>0.0</td>\n",
       "      <td>1.0</td>\n",
       "      <td>0.0</td>\n",
       "    </tr>\n",
       "    <tr>\n",
       "      <th>3</th>\n",
       "      <td>0.984672</td>\n",
       "      <td>0.000000</td>\n",
       "      <td>0.733333</td>\n",
       "      <td>0.472222</td>\n",
       "      <td>23.0</td>\n",
       "      <td>80.80</td>\n",
       "      <td>5643.142857</td>\n",
       "      <td>0.000006</td>\n",
       "      <td>1.856</td>\n",
       "      <td>1.348808e-06</td>\n",
       "      <td>...</td>\n",
       "      <td>0.0</td>\n",
       "      <td>0.0</td>\n",
       "      <td>0.0</td>\n",
       "      <td>1.0</td>\n",
       "      <td>0.0</td>\n",
       "      <td>1.0</td>\n",
       "      <td>0.0</td>\n",
       "      <td>0.0</td>\n",
       "      <td>1.0</td>\n",
       "      <td>0.0</td>\n",
       "    </tr>\n",
       "    <tr>\n",
       "      <th>4</th>\n",
       "      <td>0.831960</td>\n",
       "      <td>0.258065</td>\n",
       "      <td>0.666667</td>\n",
       "      <td>0.472222</td>\n",
       "      <td>5.0</td>\n",
       "      <td>80.76</td>\n",
       "      <td>82071.714286</td>\n",
       "      <td>0.000167</td>\n",
       "      <td>17.200</td>\n",
       "      <td>1.850690e-06</td>\n",
       "      <td>...</td>\n",
       "      <td>0.0</td>\n",
       "      <td>0.0</td>\n",
       "      <td>0.0</td>\n",
       "      <td>1.0</td>\n",
       "      <td>0.0</td>\n",
       "      <td>1.0</td>\n",
       "      <td>0.0</td>\n",
       "      <td>0.0</td>\n",
       "      <td>1.0</td>\n",
       "      <td>0.0</td>\n",
       "    </tr>\n",
       "  </tbody>\n",
       "</table>\n",
       "<p>5 rows × 110 columns</p>\n",
       "</div>"
      ],
      "text/plain": [
       "         id       age    height    weight  growth  joined         value  \\\n",
       "0  0.847033  0.225806  0.666667  0.694444     7.0   80.72  34750.285714   \n",
       "1  0.856432  0.193548  0.266667  0.324074     5.0   80.80  42786.000000   \n",
       "2  0.954982  0.096774  0.666667  0.527778    17.0   80.72   4214.571429   \n",
       "3  0.984672  0.000000  0.733333  0.472222    23.0   80.80   5643.142857   \n",
       "4  0.831960  0.258065  0.666667  0.472222     5.0   80.76  82071.714286   \n",
       "\n",
       "       wage  release_clause     attacking  ...  bp_RW  bp_RWB  bp_ST  \\\n",
       "0  0.000064           0.000  1.442911e-06  ...    0.0     0.0    0.0   \n",
       "1  0.000038           8.800  1.869511e-06  ...    0.0     0.0    0.0   \n",
       "2  0.000006           0.996  3.011292e-07  ...    0.0     0.0    0.0   \n",
       "3  0.000006           1.856  1.348808e-06  ...    0.0     0.0    0.0   \n",
       "4  0.000167          17.200  1.850690e-06  ...    0.0     0.0    0.0   \n",
       "\n",
       "   foot_Right  a/w_Low  a/w_Medium  a/w_unknown_a/w  d/w_Low  d/w_Medium  \\\n",
       "0         1.0      1.0         0.0              0.0      0.0         0.0   \n",
       "1         1.0      0.0         0.0              0.0      1.0         0.0   \n",
       "2         1.0      0.0         1.0              0.0      0.0         1.0   \n",
       "3         1.0      0.0         1.0              0.0      0.0         1.0   \n",
       "4         1.0      0.0         1.0              0.0      0.0         1.0   \n",
       "\n",
       "   d/w_unknown_d/w  \n",
       "0              0.0  \n",
       "1              0.0  \n",
       "2              0.0  \n",
       "3              0.0  \n",
       "4              0.0  \n",
       "\n",
       "[5 rows x 110 columns]"
      ]
     },
     "execution_count": 12,
     "metadata": {},
     "output_type": "execute_result"
    }
   ],
   "source": [
    "X_normalized = MinMaxtransformer.transform(X)\n",
    "print(X_normalized.shape)\n",
    "X_normalized = pd.DataFrame(X_normalized,columns=X.columns)\n",
    "X_normalized.head()"
   ]
  },
  {
   "cell_type": "markdown",
   "id": "b854d0c7",
   "metadata": {},
   "source": [
    "### Train Testing"
   ]
  },
  {
   "cell_type": "code",
   "execution_count": 13,
   "id": "895f67cd",
   "metadata": {},
   "outputs": [
    {
     "name": "stdout",
     "output_type": "stream",
     "text": [
      "(1596, 110)\n",
      "(400, 110)\n",
      "(1596,)\n",
      "(400,)\n"
     ]
    }
   ],
   "source": [
    "from sklearn.model_selection import train_test_split\n",
    "X_train, X_test, y_train, y_test = train_test_split(X, y, test_size=0.2, random_state=7)\n",
    "print(X_train.shape)\n",
    "print(X_test.shape)\n",
    "print(y_train.shape)\n",
    "print(y_test.shape)"
   ]
  },
  {
   "cell_type": "code",
   "execution_count": 14,
   "id": "122f40bb",
   "metadata": {},
   "outputs": [
    {
     "data": {
      "text/plain": [
       "LinearRegression()"
      ]
     },
     "execution_count": 14,
     "metadata": {},
     "output_type": "execute_result"
    }
   ],
   "source": [
    "lm = linear_model.LinearRegression()\n",
    "lm.fit(X_train,y_train)"
   ]
  },
  {
   "cell_type": "code",
   "execution_count": 15,
   "id": "050ecb13",
   "metadata": {},
   "outputs": [
    {
     "data": {
      "text/plain": [
       "0.9254870627518754"
      ]
     },
     "execution_count": 15,
     "metadata": {},
     "output_type": "execute_result"
    }
   ],
   "source": [
    "from sklearn.metrics import r2_score\n",
    "\n",
    "predictions = lm.predict(X_train)\n",
    "r2_score(y_train, predictions)"
   ]
  },
  {
   "cell_type": "code",
   "execution_count": 16,
   "id": "5d31024b",
   "metadata": {},
   "outputs": [
    {
     "data": {
      "text/plain": [
       "0.9049365656288344"
      ]
     },
     "execution_count": 16,
     "metadata": {},
     "output_type": "execute_result"
    }
   ],
   "source": [
    "predictions_test = lm.predict(X_test)\n",
    "r2_score(y_test, predictions_test)"
   ]
  },
  {
   "cell_type": "code",
   "execution_count": 17,
   "id": "f3dca21c",
   "metadata": {},
   "outputs": [
    {
     "data": {
      "text/plain": [
       "1011    56\n",
       "1723    72\n",
       "591     76\n",
       "1350    70\n",
       "595     66\n",
       "Name: ova, dtype: int64"
      ]
     },
     "execution_count": 17,
     "metadata": {},
     "output_type": "execute_result"
    }
   ],
   "source": [
    "y_test[:5]"
   ]
  },
  {
   "cell_type": "code",
   "execution_count": 18,
   "id": "0cf37892",
   "metadata": {},
   "outputs": [
    {
     "data": {
      "text/plain": [
       "array([54.78794265, 69.64310529, 79.60732189, 70.69754172, 62.96105874])"
      ]
     },
     "execution_count": 18,
     "metadata": {},
     "output_type": "execute_result"
    }
   ],
   "source": [
    "predictions_test[:5]"
   ]
  },
  {
   "cell_type": "code",
   "execution_count": 19,
   "id": "92f77f46",
   "metadata": {},
   "outputs": [
    {
     "data": {
      "text/plain": [
       "4.294513819429536"
      ]
     },
     "execution_count": 19,
     "metadata": {},
     "output_type": "execute_result"
    }
   ],
   "source": [
    "from sklearn.metrics import mean_squared_error\n",
    "mse=mean_squared_error(y_test,predictions_test)\n",
    "mse"
   ]
  },
  {
   "cell_type": "code",
   "execution_count": 20,
   "id": "10b8ab18",
   "metadata": {},
   "outputs": [
    {
     "data": {
      "text/plain": [
       "2.0723208775258564"
      ]
     },
     "execution_count": 20,
     "metadata": {},
     "output_type": "execute_result"
    }
   ],
   "source": [
    "rmse = np.sqrt(mean_squared_error(y_test,predictions_test))\n",
    "rmse"
   ]
  },
  {
   "cell_type": "code",
   "execution_count": 21,
   "id": "b11e8e8f",
   "metadata": {},
   "outputs": [
    {
     "data": {
      "text/plain": [
       "66.9525"
      ]
     },
     "execution_count": 21,
     "metadata": {},
     "output_type": "execute_result"
    }
   ],
   "source": [
    "y_test.mean()"
   ]
  },
  {
   "cell_type": "code",
   "execution_count": 22,
   "id": "9d5d0ad7",
   "metadata": {},
   "outputs": [
    {
     "name": "stdout",
     "output_type": "stream",
     "text": [
      "1.5823666370255425\n"
     ]
    }
   ],
   "source": [
    "from sklearn.metrics import mean_absolute_error, r2_score\n",
    "mae = mean_absolute_error(y_test, predictions_test)\n",
    "print(mae)"
   ]
  },
  {
   "cell_type": "code",
   "execution_count": 23,
   "id": "eda91839",
   "metadata": {},
   "outputs": [
    {
     "name": "stdout",
     "output_type": "stream",
     "text": [
      "2.0723208775258564\n"
     ]
    }
   ],
   "source": [
    "rmse = math.sqrt(mse)\n",
    "print(rmse)"
   ]
  },
  {
   "cell_type": "code",
   "execution_count": null,
   "id": "04d35c0f",
   "metadata": {},
   "outputs": [],
   "source": []
  }
 ],
 "metadata": {
  "kernelspec": {
   "display_name": "Python 3 (ipykernel)",
   "language": "python",
   "name": "python3"
  },
  "language_info": {
   "codemirror_mode": {
    "name": "ipython",
    "version": 3
   },
   "file_extension": ".py",
   "mimetype": "text/x-python",
   "name": "python",
   "nbconvert_exporter": "python",
   "pygments_lexer": "ipython3",
   "version": "3.9.13"
  }
 },
 "nbformat": 4,
 "nbformat_minor": 5
}
